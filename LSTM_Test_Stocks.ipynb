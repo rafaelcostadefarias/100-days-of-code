{
  "nbformat": 4,
  "nbformat_minor": 0,
  "metadata": {
    "colab": {
      "name": "LSTM_Test_Stocks.ipynb",
      "provenance": [],
      "authorship_tag": "ABX9TyMI7ua1GJwQqR9AWRcBOS1Z",
      "include_colab_link": true
    },
    "kernelspec": {
      "name": "python3",
      "display_name": "Python 3"
    }
  },
  "cells": [
    {
      "cell_type": "markdown",
      "metadata": {
        "id": "view-in-github",
        "colab_type": "text"
      },
      "source": [
        "<a href=\"https://colab.research.google.com/github/rafaelcostadefarias/100-days-of-code/blob/master/LSTM_Test_Stocks.ipynb\" target=\"_parent\"><img src=\"https://colab.research.google.com/assets/colab-badge.svg\" alt=\"Open In Colab\"/></a>"
      ]
    },
    {
      "cell_type": "code",
      "metadata": {
        "colab": {
          "base_uri": "https://localhost:8080/"
        },
        "id": "8Qf8IYeVPcZc",
        "outputId": "b8379c5c-ba61-4eed-9a48-26eb7143312d"
      },
      "source": [
        "!pip install yfinance --upgrade --no-cache-dir"
      ],
      "execution_count": 1,
      "outputs": [
        {
          "output_type": "stream",
          "text": [
            "Collecting yfinance\n",
            "  Downloading https://files.pythonhosted.org/packages/7a/e8/b9d7104d3a4bf39924799067592d9e59119fcfc900a425a12e80a3123ec8/yfinance-0.1.55.tar.gz\n",
            "Requirement already satisfied, skipping upgrade: pandas>=0.24 in /usr/local/lib/python3.6/dist-packages (from yfinance) (1.1.5)\n",
            "Requirement already satisfied, skipping upgrade: numpy>=1.15 in /usr/local/lib/python3.6/dist-packages (from yfinance) (1.19.5)\n",
            "Requirement already satisfied, skipping upgrade: requests>=2.20 in /usr/local/lib/python3.6/dist-packages (from yfinance) (2.23.0)\n",
            "Requirement already satisfied, skipping upgrade: multitasking>=0.0.7 in /usr/local/lib/python3.6/dist-packages (from yfinance) (0.0.9)\n",
            "Collecting lxml>=4.5.1\n",
            "\u001b[?25l  Downloading https://files.pythonhosted.org/packages/bd/78/56a7c88a57d0d14945472535d0df9fb4bbad7d34ede658ec7961635c790e/lxml-4.6.2-cp36-cp36m-manylinux1_x86_64.whl (5.5MB)\n",
            "\u001b[K     |████████████████████████████████| 5.5MB 6.5MB/s \n",
            "\u001b[?25hRequirement already satisfied, skipping upgrade: pytz>=2017.2 in /usr/local/lib/python3.6/dist-packages (from pandas>=0.24->yfinance) (2018.9)\n",
            "Requirement already satisfied, skipping upgrade: python-dateutil>=2.7.3 in /usr/local/lib/python3.6/dist-packages (from pandas>=0.24->yfinance) (2.8.1)\n",
            "Requirement already satisfied, skipping upgrade: idna<3,>=2.5 in /usr/local/lib/python3.6/dist-packages (from requests>=2.20->yfinance) (2.10)\n",
            "Requirement already satisfied, skipping upgrade: chardet<4,>=3.0.2 in /usr/local/lib/python3.6/dist-packages (from requests>=2.20->yfinance) (3.0.4)\n",
            "Requirement already satisfied, skipping upgrade: urllib3!=1.25.0,!=1.25.1,<1.26,>=1.21.1 in /usr/local/lib/python3.6/dist-packages (from requests>=2.20->yfinance) (1.24.3)\n",
            "Requirement already satisfied, skipping upgrade: certifi>=2017.4.17 in /usr/local/lib/python3.6/dist-packages (from requests>=2.20->yfinance) (2020.12.5)\n",
            "Requirement already satisfied, skipping upgrade: six>=1.5 in /usr/local/lib/python3.6/dist-packages (from python-dateutil>=2.7.3->pandas>=0.24->yfinance) (1.15.0)\n",
            "Building wheels for collected packages: yfinance\n",
            "  Building wheel for yfinance (setup.py) ... \u001b[?25l\u001b[?25hdone\n",
            "  Created wheel for yfinance: filename=yfinance-0.1.55-py2.py3-none-any.whl size=22616 sha256=e43fe15a56ec5351feb36707a162d7df47a07c1fa04697ce41bffc5d5cafeb12\n",
            "  Stored in directory: /tmp/pip-ephem-wheel-cache-22ydahf2/wheels/04/98/cc/2702a4242d60bdc14f48b4557c427ded1fe92aedf257d4565c\n",
            "Successfully built yfinance\n",
            "Installing collected packages: lxml, yfinance\n",
            "  Found existing installation: lxml 4.2.6\n",
            "    Uninstalling lxml-4.2.6:\n",
            "      Successfully uninstalled lxml-4.2.6\n",
            "Successfully installed lxml-4.6.2 yfinance-0.1.55\n"
          ],
          "name": "stdout"
        }
      ]
    },
    {
      "cell_type": "code",
      "metadata": {
        "id": "1xgcXzBcOXtG"
      },
      "source": [
        "import numpy as np\n",
        "import matplotlib.pyplot as plt\n",
        "import pandas as pd\n",
        "import pandas_datareader as web\n",
        "import yfinance as yf\n",
        "import datetime as dt\n",
        "\n",
        "from sklearn.preprocessing import MinMaxScaler\n",
        "from tensorflow.keras.models import Sequential\n",
        "from tensorflow.keras.layers import Dense, Dropout, LSTM"
      ],
      "execution_count": 4,
      "outputs": []
    },
    {
      "cell_type": "code",
      "metadata": {
        "id": "oeTxgj-_QUt3"
      },
      "source": [
        "yf.pdr_override()"
      ],
      "execution_count": 5,
      "outputs": []
    },
    {
      "cell_type": "code",
      "metadata": {
        "id": "C60kkq2PQftk"
      },
      "source": [
        "company = 'AAPL'"
      ],
      "execution_count": 53,
      "outputs": []
    },
    {
      "cell_type": "code",
      "metadata": {
        "id": "ymmuvMA2Qh6U"
      },
      "source": [
        "start = dt.datetime(2012,1,1)\n",
        "end = dt.datetime(2020,1,1)"
      ],
      "execution_count": 54,
      "outputs": []
    },
    {
      "cell_type": "code",
      "metadata": {
        "id": "EiW4mo84QuY3"
      },
      "source": [
        "data = web.get_data_yahoo(company, start=start, end=end)"
      ],
      "execution_count": 55,
      "outputs": []
    },
    {
      "cell_type": "code",
      "metadata": {
        "id": "W6gQidMBabFC"
      },
      "source": [
        "#Preparando os dados\n",
        "scaler = MinMaxScaler(feature_range=(0,1))\n",
        "scaled_data = scaler.fit_transform(data['Adj Close'].values.reshape(-1,1))\n",
        "\n",
        "prediction_days = 60\n",
        "\n",
        "x_train = []\n",
        "y_train = []"
      ],
      "execution_count": 56,
      "outputs": []
    },
    {
      "cell_type": "code",
      "metadata": {
        "id": "z0XyqAvYbSk2"
      },
      "source": [
        "for x in range(prediction_days, len(scaled_data)):\n",
        "  x_train.append(scaled_data[x-prediction_days:x, 0])\n",
        "  y_train.append(scaled_data[x, 0])"
      ],
      "execution_count": 57,
      "outputs": []
    },
    {
      "cell_type": "code",
      "metadata": {
        "id": "49uh3wI_cE4g"
      },
      "source": [
        "x_train, y_train = np.array(x_train), np.array(y_train)\n",
        "x_train = np.reshape(x_train, (x_train.shape[0], x_train.shape[1],1))"
      ],
      "execution_count": 58,
      "outputs": []
    },
    {
      "cell_type": "code",
      "metadata": {
        "colab": {
          "base_uri": "https://localhost:8080/"
        },
        "id": "VPga2mJ5cfZD",
        "outputId": "b252fa59-faa0-44d3-8a2d-f9955d61860c"
      },
      "source": [
        "#Modelo\n",
        "model = Sequential()\n",
        "\n",
        "model.add(LSTM(units=50,return_sequences=True,input_shape=(x_train.shape[1], 1)))\n",
        "model.add(Dropout(0.2))\n",
        "\n",
        "model.add(LSTM(units=50,return_sequences=True))\n",
        "model.add(Dropout(0.2))\n",
        "\n",
        "model.add(LSTM(units=50))\n",
        "model.add(Dropout(0.2))\n",
        "\n",
        "model.add(Dense(units=1)) #prox fechamento\n",
        "\n",
        "model.compile(optimizer='adam', loss='mean_squared_error')\n",
        "model.fit(x_train, y_train, epochs=25,batch_size=32)"
      ],
      "execution_count": 59,
      "outputs": [
        {
          "output_type": "stream",
          "text": [
            "Epoch 1/25\n",
            "61/61 [==============================] - 7s 62ms/step - loss: 0.0266\n",
            "Epoch 2/25\n",
            "61/61 [==============================] - 4s 63ms/step - loss: 0.0020\n",
            "Epoch 3/25\n",
            "61/61 [==============================] - 4s 66ms/step - loss: 0.0021\n",
            "Epoch 4/25\n",
            "61/61 [==============================] - 4s 65ms/step - loss: 0.0021\n",
            "Epoch 5/25\n",
            "61/61 [==============================] - 4s 65ms/step - loss: 0.0019\n",
            "Epoch 6/25\n",
            "61/61 [==============================] - 4s 66ms/step - loss: 0.0015\n",
            "Epoch 7/25\n",
            "61/61 [==============================] - 4s 66ms/step - loss: 0.0015\n",
            "Epoch 8/25\n",
            "61/61 [==============================] - 4s 65ms/step - loss: 0.0016\n",
            "Epoch 9/25\n",
            "61/61 [==============================] - 4s 65ms/step - loss: 0.0015\n",
            "Epoch 10/25\n",
            "61/61 [==============================] - 4s 66ms/step - loss: 0.0013\n",
            "Epoch 11/25\n",
            "61/61 [==============================] - 4s 67ms/step - loss: 0.0013\n",
            "Epoch 12/25\n",
            "61/61 [==============================] - 4s 66ms/step - loss: 0.0012\n",
            "Epoch 13/25\n",
            "61/61 [==============================] - 4s 65ms/step - loss: 0.0012\n",
            "Epoch 14/25\n",
            "61/61 [==============================] - 4s 65ms/step - loss: 0.0013\n",
            "Epoch 15/25\n",
            "61/61 [==============================] - 4s 66ms/step - loss: 0.0015\n",
            "Epoch 16/25\n",
            "61/61 [==============================] - 4s 65ms/step - loss: 9.8364e-04\n",
            "Epoch 17/25\n",
            "61/61 [==============================] - 4s 66ms/step - loss: 0.0010\n",
            "Epoch 18/25\n",
            "61/61 [==============================] - 4s 68ms/step - loss: 9.1158e-04\n",
            "Epoch 19/25\n",
            "61/61 [==============================] - 4s 69ms/step - loss: 9.8129e-04\n",
            "Epoch 20/25\n",
            "61/61 [==============================] - 4s 67ms/step - loss: 0.0011\n",
            "Epoch 21/25\n",
            "61/61 [==============================] - 4s 69ms/step - loss: 0.0011\n",
            "Epoch 22/25\n",
            "61/61 [==============================] - 4s 68ms/step - loss: 9.4886e-04\n",
            "Epoch 23/25\n",
            "61/61 [==============================] - 4s 68ms/step - loss: 9.6915e-04\n",
            "Epoch 24/25\n",
            "61/61 [==============================] - 4s 70ms/step - loss: 0.0011\n",
            "Epoch 25/25\n",
            "61/61 [==============================] - 4s 69ms/step - loss: 9.4100e-04\n"
          ],
          "name": "stdout"
        },
        {
          "output_type": "execute_result",
          "data": {
            "text/plain": [
              "<tensorflow.python.keras.callbacks.History at 0x7fd17b887710>"
            ]
          },
          "metadata": {
            "tags": []
          },
          "execution_count": 59
        }
      ]
    },
    {
      "cell_type": "code",
      "metadata": {
        "id": "pXz0hF9NhUep"
      },
      "source": [
        "##########Backtest\n",
        "\n",
        "#Carregar dados\n",
        "test_start = dt.datetime(2020,1,1)\n",
        "test_end = dt.datetime(2020,12,31)\n",
        "test_data = web.get_data_yahoo(company, start=start, end=end)"
      ],
      "execution_count": 60,
      "outputs": []
    },
    {
      "cell_type": "code",
      "metadata": {
        "id": "JfWh6XG-iV9S"
      },
      "source": [
        "actual_prices = test_data['Adj Close'].values\n",
        "\n",
        "total_dataset = pd.concat((data['Adj Close'], test_data['Adj Close']), axis=0)\n",
        "\n",
        "model_inputs = total_dataset[len(total_dataset) - len(test_data) - prediction_days:].values\n",
        "model_inputs = model_inputs.reshape(-1,1)\n",
        "model_inputs = scaler.transform(model_inputs)"
      ],
      "execution_count": 61,
      "outputs": []
    },
    {
      "cell_type": "code",
      "metadata": {
        "id": "nrRFOMl6j12y"
      },
      "source": [
        "#Chute nos dados de teste\n",
        "x_test = []\n",
        "\n",
        "for x in range(prediction_days, len(model_inputs)):\n",
        "  x_test.append(model_inputs[x-prediction_days: x,0])"
      ],
      "execution_count": 62,
      "outputs": []
    },
    {
      "cell_type": "code",
      "metadata": {
        "id": "5Z0gYMpNkO7s"
      },
      "source": [
        "x_test = np.array(x_test)\n",
        "x_test = np.reshape(x_test,(x_test.shape[0], x_test.shape[1], 1))"
      ],
      "execution_count": 63,
      "outputs": []
    },
    {
      "cell_type": "code",
      "metadata": {
        "id": "xbRsLjF2kk68"
      },
      "source": [
        "predicted_prices = model.predict(x_test)\n",
        "predicted_prices = scaler.inverse_transform(predicted_prices)"
      ],
      "execution_count": 64,
      "outputs": []
    },
    {
      "cell_type": "code",
      "metadata": {
        "colab": {
          "base_uri": "https://localhost:8080/",
          "height": 264
        },
        "id": "hIFzJ589k3YN",
        "outputId": "5ddd3eb2-2c09-4a4a-f9c4-e9b7a9ff0001"
      },
      "source": [
        "#Plot nos chutes\n",
        "plt.plot(actual_prices, color='black')\n",
        "plt.plot(predicted_prices, color='blue')\n",
        "\n",
        "plt.show()"
      ],
      "execution_count": 65,
      "outputs": [
        {
          "output_type": "display_data",
          "data": {
            "image/png": "[encoded data removed]",
            "text/plain": [
              "<Figure size 432x288 with 1 Axes>"
            ]
          },
          "metadata": {
            "tags": [],
            "needs_background": "light"
          }
        }
      ]
    },
    {
      "cell_type": "code",
      "metadata": {
        "id": "v5n2HfdElclF"
      },
      "source": [
        "#Chute no amanha\n",
        "\n",
        "real_data = [model_inputs[len(model_inputs) + 1 - prediction_days:len(model_inputs+1), 0]]\n",
        "real_data = np.array(real_data)\n",
        "real_data = np.reshape(real_data, (real_data.shape[0], real_data.shape[1],1))"
      ],
      "execution_count": 66,
      "outputs": []
    },
    {
      "cell_type": "code",
      "metadata": {
        "id": "i5w9ic4omez9"
      },
      "source": [
        "#print(scaler.inverse_transform(real_data[-1]))"
      ],
      "execution_count": 67,
      "outputs": []
    },
    {
      "cell_type": "code",
      "metadata": {
        "colab": {
          "base_uri": "https://localhost:8080/"
        },
        "id": "HtIQ3jjnm4QL",
        "outputId": "d9ab3263-68ba-4f59-8427-4dea3378a042"
      },
      "source": [
        "prediction = model.predict(real_data)\n",
        "prediction = scaler.inverse_transform(prediction)"
      ],
      "execution_count": 68,
      "outputs": [
        {
          "output_type": "stream",
          "text": [
            "WARNING:tensorflow:Model was constructed with shape (None, 60, 1) for input KerasTensor(type_spec=TensorSpec(shape=(None, 60, 1), dtype=tf.float32, name='lstm_3_input'), name='lstm_3_input', description=\"created by layer 'lstm_3_input'\"), but it was called on an input with incompatible shape (None, 59, 1).\n"
          ],
          "name": "stdout"
        }
      ]
    },
    {
      "cell_type": "code",
      "metadata": {
        "colab": {
          "base_uri": "https://localhost:8080/"
        },
        "id": "zm2D4xQwnLPv",
        "outputId": "c40edc5b-f2a2-4070-856b-0dc2dbb163b9"
      },
      "source": [
        "prediction"
      ],
      "execution_count": 69,
      "outputs": [
        {
          "output_type": "execute_result",
          "data": {
            "text/plain": [
              "array([[70.06297]], dtype=float32)"
            ]
          },
          "metadata": {
            "tags": []
          },
          "execution_count": 69
        }
      ]
    }
  ]
}